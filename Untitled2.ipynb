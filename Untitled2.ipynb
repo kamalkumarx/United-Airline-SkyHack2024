{
 "cells": [
  {
   "cell_type": "code",
   "execution_count": 5,
   "id": "2b59601f",
   "metadata": {},
   "outputs": [
    {
     "name": "stdout",
     "output_type": "stream",
     "text": [
      "  customer_tone  average_aht  average_ast  sentiment_score  silence_avg\n",
      "0         angry   695.530261   436.445031        -0.032427     0.286450\n",
      "1          calm   699.604098   437.832299        -0.032501     0.284908\n",
      "2    frustrated   692.738764   436.803371        -0.034490     0.283494\n",
      "3       neutral   707.625312   437.754085        -0.033709     0.288883\n",
      "4        polite   689.659731   436.499896        -0.034475     0.283799\n"
     ]
    }
   ],
   "source": [
    "import pandas as pd\n",
    "\n",
    "# Load the data\n",
    "calls_data = pd.read_csv('callsf0d4f5a.csv')\n",
    "sentiment_data = pd.read_csv('sentiment_statisticscc1e57a.csv')\n",
    "\n",
    "# Convert datetime columns\n",
    "calls_data['call_start_datetime'] = pd.to_datetime(calls_data['call_start_datetime'])\n",
    "calls_data['agent_assigned_datetime'] = pd.to_datetime(calls_data['agent_assigned_datetime'])\n",
    "calls_data['call_end_datetime'] = pd.to_datetime(calls_data['call_end_datetime'])\n",
    "\n",
    "# Calculate AHT (Average Handle Time) and AST (Average Speed to Answer)\n",
    "calls_data['AHT'] = (calls_data['call_end_datetime'] - calls_data['agent_assigned_datetime']).dt.total_seconds()\n",
    "calls_data['AST'] = (calls_data['agent_assigned_datetime'] - calls_data['call_start_datetime']).dt.total_seconds()\n",
    "\n",
    "# Merge the data\n",
    "merged_data = pd.merge(calls_data, sentiment_data, on='call_id')\n",
    "\n",
    "# Group by customer sentiment to analyze key drivers\n",
    "sentiment_impact = merged_data.groupby('customer_tone').agg(\n",
    "    average_aht=('AHT', 'mean'),\n",
    "    average_ast=('AST', 'mean'),\n",
    "    sentiment_score=('average_sentiment', 'mean'),\n",
    "    silence_avg=('silence_percent_average', 'mean')\n",
    ").reset_index()\n",
    "\n",
    "# Display the results\n",
    "print(sentiment_impact)\n"
   ]
  },
  {
   "cell_type": "code",
   "execution_count": 7,
   "id": "8dc51287",
   "metadata": {},
   "outputs": [
    {
     "data": {
      "text/html": [
       "<div>\n",
       "<style scoped>\n",
       "    .dataframe tbody tr th:only-of-type {\n",
       "        vertical-align: middle;\n",
       "    }\n",
       "\n",
       "    .dataframe tbody tr th {\n",
       "        vertical-align: top;\n",
       "    }\n",
       "\n",
       "    .dataframe thead th {\n",
       "        text-align: right;\n",
       "    }\n",
       "</style>\n",
       "<table border=\"1\" class=\"dataframe\">\n",
       "  <thead>\n",
       "    <tr style=\"text-align: right;\">\n",
       "      <th></th>\n",
       "      <th>agent_tone</th>\n",
       "      <th>average_aht</th>\n",
       "      <th>call_count</th>\n",
       "    </tr>\n",
       "  </thead>\n",
       "  <tbody>\n",
       "    <tr>\n",
       "      <th>0</th>\n",
       "      <td>angry</td>\n",
       "      <td>394.395887</td>\n",
       "      <td>389</td>\n",
       "    </tr>\n",
       "    <tr>\n",
       "      <th>1</th>\n",
       "      <td>calm</td>\n",
       "      <td>626.499696</td>\n",
       "      <td>24675</td>\n",
       "    </tr>\n",
       "    <tr>\n",
       "      <th>2</th>\n",
       "      <td>frustrated</td>\n",
       "      <td>617.068404</td>\n",
       "      <td>3684</td>\n",
       "    </tr>\n",
       "    <tr>\n",
       "      <th>3</th>\n",
       "      <td>neutral</td>\n",
       "      <td>750.276439</td>\n",
       "      <td>42758</td>\n",
       "    </tr>\n",
       "    <tr>\n",
       "      <th>4</th>\n",
       "      <td>polite</td>\n",
       "      <td>220.000000</td>\n",
       "      <td>87</td>\n",
       "    </tr>\n",
       "  </tbody>\n",
       "</table>\n",
       "</div>"
      ],
      "text/plain": [
       "   agent_tone  average_aht  call_count\n",
       "0       angry   394.395887         389\n",
       "1        calm   626.499696       24675\n",
       "2  frustrated   617.068404        3684\n",
       "3     neutral   750.276439       42758\n",
       "4      polite   220.000000          87"
      ]
     },
     "execution_count": 7,
     "metadata": {},
     "output_type": "execute_result"
    }
   ],
   "source": [
    "# Rewriting the entire code flow to avoid errors\n",
    "\n",
    "import pandas as pd\n",
    "\n",
    "\n",
    "\n",
    "# Convert relevant datetime columns to datetime format for calculations\n",
    "calls_data['call_start_datetime'] = pd.to_datetime(calls_data['call_start_datetime'])\n",
    "calls_data['agent_assigned_datetime'] = pd.to_datetime(calls_data['agent_assigned_datetime'])\n",
    "calls_data['call_end_datetime'] = pd.to_datetime(calls_data['call_end_datetime'])\n",
    "\n",
    "# Calculate AHT (Average Handle Time) and AST (Average Speed to Answer)\n",
    "calls_data['AHT'] = (calls_data['call_end_datetime'] - calls_data['agent_assigned_datetime']).dt.total_seconds()\n",
    "calls_data['AST'] = (calls_data['agent_assigned_datetime'] - calls_data['call_start_datetime']).dt.total_seconds()\n",
    "\n",
    "# Merge the calls data with sentiment data based on 'call_id'\n",
    "merged_data = pd.merge(calls_data, sentiment_data, on='call_id')\n",
    "\n",
    "# Grouping by agent's emotion (tone) to analyze its impact on AHT\n",
    "agent_emotion_impact = merged_data.groupby('agent_tone').agg(\n",
    "    average_aht=('AHT', 'mean'),\n",
    "    call_count=('call_id', 'count')\n",
    ").reset_index()\n",
    "\n",
    "# Display the result\n",
    "agent_emotion_impact\n"
   ]
  },
  {
   "cell_type": "code",
   "execution_count": null,
   "id": "7d8324e6",
   "metadata": {},
   "outputs": [],
   "source": []
  }
 ],
 "metadata": {
  "kernelspec": {
   "display_name": "Python 3 (ipykernel)",
   "language": "python",
   "name": "python3"
  },
  "language_info": {
   "codemirror_mode": {
    "name": "ipython",
    "version": 3
   },
   "file_extension": ".py",
   "mimetype": "text/x-python",
   "name": "python",
   "nbconvert_exporter": "python",
   "pygments_lexer": "ipython3",
   "version": "3.11.0"
  }
 },
 "nbformat": 4,
 "nbformat_minor": 5
}
